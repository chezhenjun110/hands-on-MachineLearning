{
 "cells": [
  {
   "cell_type": "code",
   "execution_count": 1,
   "metadata": {
    "collapsed": true
   },
   "outputs": [],
   "source": [
    "from sklearn.datasets import fetch_mldata\n",
    "import numpy as np"
   ]
  },
  {
   "cell_type": "code",
   "execution_count": 26,
   "metadata": {
    "collapsed": true
   },
   "outputs": [],
   "source": [
    "np.random.seed(42)"
   ]
  },
  {
   "cell_type": "code",
   "execution_count": 27,
   "metadata": {
    "collapsed": true
   },
   "outputs": [],
   "source": [
    "mnist = fetch_mldata('MNIST original', data_home='/datasets/mnist_dataset/')"
   ]
  },
  {
   "cell_type": "code",
   "execution_count": 28,
   "metadata": {},
   "outputs": [
    {
     "data": {
      "text/plain": [
       "{'COL_NAMES': ['label', 'data'],\n",
       " 'DESCR': 'mldata.org dataset: mnist-original',\n",
       " 'data': array([[0, 0, 0, ..., 0, 0, 0],\n",
       "        [0, 0, 0, ..., 0, 0, 0],\n",
       "        [0, 0, 0, ..., 0, 0, 0],\n",
       "        ..., \n",
       "        [0, 0, 0, ..., 0, 0, 0],\n",
       "        [0, 0, 0, ..., 0, 0, 0],\n",
       "        [0, 0, 0, ..., 0, 0, 0]], dtype=uint8),\n",
       " 'target': array([ 0.,  0.,  0., ...,  9.,  9.,  9.])}"
      ]
     },
     "execution_count": 28,
     "metadata": {},
     "output_type": "execute_result"
    }
   ],
   "source": [
    "mnist"
   ]
  },
  {
   "cell_type": "code",
   "execution_count": 29,
   "metadata": {
    "collapsed": true
   },
   "outputs": [],
   "source": [
    "X,y=mnist['data'],mnist['target']"
   ]
  },
  {
   "cell_type": "code",
   "execution_count": 30,
   "metadata": {},
   "outputs": [
    {
     "data": {
      "text/plain": [
       "(70000, 784)"
      ]
     },
     "execution_count": 30,
     "metadata": {},
     "output_type": "execute_result"
    }
   ],
   "source": [
    "X.shape"
   ]
  },
  {
   "cell_type": "code",
   "execution_count": 31,
   "metadata": {},
   "outputs": [
    {
     "data": {
      "text/plain": [
       "(70000,)"
      ]
     },
     "execution_count": 31,
     "metadata": {},
     "output_type": "execute_result"
    }
   ],
   "source": [
    "y.shape"
   ]
  },
  {
   "cell_type": "code",
   "execution_count": 32,
   "metadata": {},
   "outputs": [
    {
     "data": {
      "text/plain": [
       "numpy.ndarray"
      ]
     },
     "execution_count": 32,
     "metadata": {},
     "output_type": "execute_result"
    }
   ],
   "source": [
    "type(X)"
   ]
  },
  {
   "cell_type": "code",
   "execution_count": 33,
   "metadata": {
    "collapsed": true
   },
   "outputs": [],
   "source": [
    "%matplotlib inline\n",
    "import matplotlib\n",
    "import matplotlib.pyplot as plt"
   ]
  },
  {
   "cell_type": "code",
   "execution_count": 34,
   "metadata": {},
   "outputs": [
    {
     "data": {
      "image/png": "[encoded data removed]",
      "text/plain": [
       "<matplotlib.figure.Figure at 0x15dcac750f0>"
      ]
     },
     "metadata": {},
     "output_type": "display_data"
    }
   ],
   "source": [
    "some_digit=X[36000]\n",
    "some_digit_image=some_digit.reshape(28,28)\n",
    "plt.imshow(some_digit_image,cmap=matplotlib.cm.binary,interpolation=\"nearest\")\n",
    "plt.axis(\"off\")\n",
    "plt.show()"
   ]
  },
  {
   "cell_type": "code",
   "execution_count": 35,
   "metadata": {
    "collapsed": true
   },
   "outputs": [],
   "source": [
    "X_train, X_test, y_train, y_test = X[:60000], X[60000:], y[:60000], y[60000:]"
   ]
  },
  {
   "cell_type": "code",
   "execution_count": 36,
   "metadata": {
    "collapsed": true
   },
   "outputs": [],
   "source": [
    "shuffle_index=np.random.permutation(60000)\n",
    "X_train,y_train=X_train[shuffle_index],y_train[shuffle_index]"
   ]
  },
  {
   "cell_type": "code",
   "execution_count": 37,
   "metadata": {},
   "outputs": [
    {
     "data": {
      "text/plain": [
       "array([12628, 37730, 39991, ...,   860, 15795, 56422])"
      ]
     },
     "execution_count": 37,
     "metadata": {},
     "output_type": "execute_result"
    }
   ],
   "source": [
    "shuffle_index"
   ]
  },
  {
   "cell_type": "code",
   "execution_count": 38,
   "metadata": {
    "collapsed": true
   },
   "outputs": [],
   "source": [
    "y_train_5=(y_train==5)\n",
    "y_test_5=(y_test==5)"
   ]
  },
  {
   "cell_type": "code",
   "execution_count": 39,
   "metadata": {},
   "outputs": [
    {
     "data": {
      "text/plain": [
       "array([False, False, False, ..., False, False, False], dtype=bool)"
      ]
     },
     "execution_count": 39,
     "metadata": {},
     "output_type": "execute_result"
    }
   ],
   "source": [
    "y_train_5"
   ]
  },
  {
   "cell_type": "code",
   "execution_count": 40,
   "metadata": {},
   "outputs": [
    {
     "data": {
      "text/plain": [
       "SGDClassifier(alpha=0.0001, average=False, class_weight=None, epsilon=0.1,\n",
       "       eta0=0.0, fit_intercept=True, l1_ratio=0.15,\n",
       "       learning_rate='optimal', loss='hinge', n_iter=5, n_jobs=1,\n",
       "       penalty='l2', power_t=0.5, random_state=42, shuffle=True, verbose=0,\n",
       "       warm_start=False)"
      ]
     },
     "execution_count": 40,
     "metadata": {},
     "output_type": "execute_result"
    }
   ],
   "source": [
    "from sklearn.linear_model import SGDClassifier\n",
    "sgd_clf=SGDClassifier(random_state=42)\n",
    "sgd_clf.fit(X_train,y_train_5)"
   ]
  },
  {
   "cell_type": "code",
   "execution_count": 41,
   "metadata": {},
   "outputs": [
    {
     "data": {
      "text/plain": [
       "array([ True], dtype=bool)"
      ]
     },
     "execution_count": 41,
     "metadata": {},
     "output_type": "execute_result"
    }
   ],
   "source": [
    "sgd_clf.predict([some_digit])"
   ]
  },
  {
   "cell_type": "code",
   "execution_count": 42,
   "metadata": {},
   "outputs": [
    {
     "data": {
      "text/plain": [
       "(60000, 784)"
      ]
     },
     "execution_count": 42,
     "metadata": {},
     "output_type": "execute_result"
    }
   ],
   "source": [
    "X_train.shape"
   ]
  },
  {
   "cell_type": "code",
   "execution_count": 43,
   "metadata": {
    "collapsed": true
   },
   "outputs": [],
   "source": [
    "from sklearn.model_selection import StratifiedKFold\n",
    "from sklearn.base import clone"
   ]
  },
  {
   "cell_type": "code",
   "execution_count": 44,
   "metadata": {
    "collapsed": true
   },
   "outputs": [],
   "source": [
    "skfolds=StratifiedKFold(n_splits=3,random_state=42)"
   ]
  },
  {
   "cell_type": "code",
   "execution_count": 45,
   "metadata": {},
   "outputs": [
    {
     "name": "stdout",
     "output_type": "stream",
     "text": [
      "[19844 19852 19878 ..., 59997 59998 59999]\n",
      "0.9502\n",
      "[    0     1     2 ..., 59997 59998 59999]\n",
      "0.96565\n",
      "[    0     1     2 ..., 40065 40066 40067]\n",
      "0.96495\n"
     ]
    }
   ],
   "source": [
    "for train_index,test_index in skfolds.split(X_train,y_train_5):\n",
    "    clone_clf=clone(sgd_clf)\n",
    "    X_train_fold=X_train[train_index]\n",
    "    y_train_fold=(y_train_5[train_index])\n",
    "    X_test_fold=X_train[test_index]\n",
    "    y_test_fold=(y_train_5[test_index])\n",
    "    print(train_index)\n",
    "    clone_clf.fit(X_train_fold,y_train_fold)\n",
    "    y_pred=clone_clf.predict(X_test_fold)\n",
    "    n_correct=sum(y_pred==y_test_fold)\n",
    "    print(n_correct/len(y_pred))"
   ]
  },
  {
   "cell_type": "code",
   "execution_count": 47,
   "metadata": {},
   "outputs": [
    {
     "data": {
      "text/plain": [
       "array([ 0.9502 ,  0.96565,  0.96495])"
      ]
     },
     "execution_count": 47,
     "metadata": {},
     "output_type": "execute_result"
    }
   ],
   "source": [
    "from sklearn.model_selection import cross_val_score\n",
    "cross_val_score(sgd_clf,X_train,y_train_5,cv=3,scoring=\"accuracy\")"
   ]
  },
  {
   "cell_type": "code",
   "execution_count": 48,
   "metadata": {
    "collapsed": true
   },
   "outputs": [],
   "source": [
    "from sklearn.model_selection import cross_val_predict\n",
    "y_train_pred=cross_val_predict(sgd_clf,X_train,y_train_5,cv=3)"
   ]
  },
  {
   "cell_type": "code",
   "execution_count": 49,
   "metadata": {},
   "outputs": [
    {
     "data": {
      "text/plain": [
       "array([[53272,  1307],\n",
       "       [ 1077,  4344]])"
      ]
     },
     "execution_count": 49,
     "metadata": {},
     "output_type": "execute_result"
    }
   ],
   "source": [
    "from sklearn.metrics import confusion_matrix\n",
    "confusion_matrix(y_train_5,y_train_pred)"
   ]
  },
  {
   "cell_type": "code",
   "execution_count": 51,
   "metadata": {},
   "outputs": [
    {
     "data": {
      "text/plain": [
       "0.76871350203503808"
      ]
     },
     "execution_count": 51,
     "metadata": {},
     "output_type": "execute_result"
    }
   ],
   "source": [
    "from sklearn.metrics import precision_score,recall_score\n",
    "precision_score(y_train_5,y_train_pred)"
   ]
  },
  {
   "cell_type": "code",
   "execution_count": 52,
   "metadata": {},
   "outputs": [
    {
     "data": {
      "text/plain": [
       "0.80132816823464303"
      ]
     },
     "execution_count": 52,
     "metadata": {},
     "output_type": "execute_result"
    }
   ],
   "source": [
    "recall_score(y_train_5, y_train_pred)"
   ]
  },
  {
   "cell_type": "code",
   "execution_count": 53,
   "metadata": {},
   "outputs": [
    {
     "data": {
      "text/plain": [
       "0.78468208092485547"
      ]
     },
     "execution_count": 53,
     "metadata": {},
     "output_type": "execute_result"
    }
   ],
   "source": [
    "from sklearn.metrics import f1_score\n",
    "f1_score(y_train_5,y_train_pred)"
   ]
  },
  {
   "cell_type": "code",
   "execution_count": 54,
   "metadata": {},
   "outputs": [
    {
     "data": {
      "text/plain": [
       "array([ 161855.74572176])"
      ]
     },
     "execution_count": 54,
     "metadata": {},
     "output_type": "execute_result"
    }
   ],
   "source": [
    "y_scores=sgd_clf.decision_function([some_digit])\n",
    "y_scores"
   ]
  },
  {
   "cell_type": "code",
   "execution_count": 55,
   "metadata": {
    "collapsed": true
   },
   "outputs": [],
   "source": [
    "y_scores=cross_val_predict(sgd_clf,X_train,y_train_5,cv=3,method=\"decision_function\")"
   ]
  },
  {
   "cell_type": "code",
   "execution_count": 56,
   "metadata": {},
   "outputs": [
    {
     "data": {
      "text/plain": [
       "array([ -434076.49813641, -1825667.15281624,  -767086.76186905, ...,\n",
       "        -867191.25267994,  -565357.11420164,  -366599.16018198])"
      ]
     },
     "execution_count": 56,
     "metadata": {},
     "output_type": "execute_result"
    }
   ],
   "source": [
    "y_scores"
   ]
  },
  {
   "cell_type": "code",
   "execution_count": 64,
   "metadata": {
    "collapsed": true
   },
   "outputs": [],
   "source": [
    "from sklearn.metrics import precision_recall_curve\n",
    "precisions,recalls,thresholds=precision_recall_curve(y_train_5,y_scores)"
   ]
  },
  {
   "cell_type": "code",
   "execution_count": 65,
   "metadata": {},
   "outputs": [
    {
     "data": {
      "text/plain": [
       "array([-1613405.71147769, -1612415.64410228, -1611701.37464018, ...,\n",
       "         954170.04762499,   987947.69103863,  1002862.09359785])"
      ]
     },
     "execution_count": 65,
     "metadata": {},
     "output_type": "execute_result"
    }
   ],
   "source": [
    "thresholds"
   ]
  },
  {
   "cell_type": "code",
   "execution_count": 70,
   "metadata": {
    "collapsed": true
   },
   "outputs": [],
   "source": [
    "def plot_precision_recall_vs_thresholds(precisions,recalls,thresholds):\n",
    "    plt.plot(thresholds,precisions[:-1],\"b--\",label=\"Precision\")\n",
    "    plt.plot(thresholds,recalls[:-1],\"g-\",label=\"Recall\")\n",
    "    plt.xlabel(\"Thresholds\",fontsize=16)\n",
    "    plt.legend(loc=\"upper left\",fontsize=16)\n",
    "    plt.xlim([-700000,700000])\n",
    "    plt.ylim([0,1])"
   ]
  },
  {
   "cell_type": "code",
   "execution_count": 71,
   "metadata": {},
   "outputs": [
    {
     "data": {
      "image/png": "[encoded data removed]",
      "text/plain": [
       "<matplotlib.figure.Figure at 0x15dc7dc4208>"
      ]
     },
     "metadata": {},
     "output_type": "display_data"
    }
   ],
   "source": [
    "plot_precision_recall_vs_thresholds(precisions,recalls,thresholds)\n",
    "plt.show()"
   ]
  },
  {
   "cell_type": "code",
   "execution_count": 72,
   "metadata": {
    "collapsed": true
   },
   "outputs": [],
   "source": [
    "y_train_pred_90=(y_scores>70000)"
   ]
  },
  {
   "cell_type": "code",
   "execution_count": 73,
   "metadata": {},
   "outputs": [
    {
     "data": {
      "text/plain": [
       "0.86592051164915484"
      ]
     },
     "execution_count": 73,
     "metadata": {},
     "output_type": "execute_result"
    }
   ],
   "source": [
    "precision_score(y_train_5,y_train_pred_90)"
   ]
  },
  {
   "cell_type": "code",
   "execution_count": 74,
   "metadata": {},
   "outputs": [
    {
     "data": {
      "text/plain": [
       "0.69931746910164172"
      ]
     },
     "execution_count": 74,
     "metadata": {},
     "output_type": "execute_result"
    }
   ],
   "source": [
    "recall_score(y_train_5, y_train_pred_90)"
   ]
  },
  {
   "cell_type": "code",
   "execution_count": 75,
   "metadata": {
    "collapsed": true
   },
   "outputs": [],
   "source": [
    "from sklearn.metrics import roc_curve"
   ]
  },
  {
   "cell_type": "code",
   "execution_count": 76,
   "metadata": {
    "collapsed": true
   },
   "outputs": [],
   "source": [
    "fpr,tpr,thresholds=roc_curve(y_train_5,y_scores)"
   ]
  },
  {
   "cell_type": "code",
   "execution_count": 79,
   "metadata": {
    "collapsed": true
   },
   "outputs": [],
   "source": [
    "def plot_roc_curve(fpr,tpr,label=None):\n",
    "    plt.plot(fpr,tpr,linewidth=2,label=label)\n",
    "    plt.plot([0,1],[0,1],'k--')\n",
    "    plt.axis([0,1,0,1])\n",
    "    plt.xlabel('False Positive Rate',fontsize=16)\n",
    "    plt.ylabel('True Postive Rate',fontsize=16)\n",
    "    "
   ]
  },
  {
   "cell_type": "code",
   "execution_count": 80,
   "metadata": {},
   "outputs": [
    {
     "data": {
      "image/png": "[encoded data removed]",
      "text/plain": [
       "<matplotlib.figure.Figure at 0x15dc7c4a748>"
      ]
     },
     "metadata": {},
     "output_type": "display_data"
    }
   ],
   "source": [
    "plot_roc_curve(fpr,tpr)"
   ]
  },
  {
   "cell_type": "code",
   "execution_count": 81,
   "metadata": {},
   "outputs": [
    {
     "data": {
      "text/plain": [
       "0.96244965559671547"
      ]
     },
     "execution_count": 81,
     "metadata": {},
     "output_type": "execute_result"
    }
   ],
   "source": [
    "from sklearn.metrics import roc_auc_score\n",
    "roc_auc_score(y_train_5,y_scores)"
   ]
  },
  {
   "cell_type": "code",
   "execution_count": 91,
   "metadata": {
    "collapsed": true
   },
   "outputs": [],
   "source": [
    "from sklearn.ensemble import RandomForestClassifier\n",
    "forest_clf=RandomForestClassifier(random_state=42)\n",
    "y_probas_forest=cross_val_predict(forest_clf,X_train,y_train_5,cv=3,method=\"predict_proba\")"
   ]
  },
  {
   "cell_type": "code",
   "execution_count": 92,
   "metadata": {},
   "outputs": [
    {
     "data": {
      "text/plain": [
       "array([[ 1. ,  0. ],\n",
       "       [ 0.9,  0.1],\n",
       "       [ 1. ,  0. ],\n",
       "       ..., \n",
       "       [ 1. ,  0. ],\n",
       "       [ 1. ,  0. ],\n",
       "       [ 1. ,  0. ]])"
      ]
     },
     "execution_count": 92,
     "metadata": {},
     "output_type": "execute_result"
    }
   ],
   "source": [
    "y_probas_forest"
   ]
  },
  {
   "cell_type": "code",
   "execution_count": 94,
   "metadata": {
    "collapsed": true
   },
   "outputs": [],
   "source": [
    "y_scores_forest=y_probas_forest[:,1]"
   ]
  },
  {
   "cell_type": "code",
   "execution_count": 95,
   "metadata": {},
   "outputs": [
    {
     "data": {
      "text/plain": [
       "array([ 0. ,  0.1,  0. , ...,  0. ,  0. ,  0. ])"
      ]
     },
     "execution_count": 95,
     "metadata": {},
     "output_type": "execute_result"
    }
   ],
   "source": [
    "y_scores_forest"
   ]
  },
  {
   "cell_type": "code",
   "execution_count": 96,
   "metadata": {
    "collapsed": true
   },
   "outputs": [],
   "source": [
    "fpr_forest,tpr_forest,thresholds_forest=roc_curve(y_train_5,y_scores_forest)"
   ]
  },
  {
   "cell_type": "code",
   "execution_count": 97,
   "metadata": {},
   "outputs": [
    {
     "name": "stderr",
     "output_type": "stream",
     "text": [
      "C:\\Anaconda3\\lib\\site-packages\\matplotlib\\legend.py:326: UserWarning: Unrecognized location \"bottom right\". Falling back on \"best\"; valid locations are\n",
      "\tbest\n",
      "\tupper right\n",
      "\tupper left\n",
      "\tlower left\n",
      "\tlower right\n",
      "\tright\n",
      "\tcenter left\n",
      "\tcenter right\n",
      "\tlower center\n",
      "\tupper center\n",
      "\tcenter\n",
      "\n",
      "  six.iterkeys(self.codes))))\n"
     ]
    },
    {
     "data": {
      "image/png": "[encoded data removed]",
      "text/plain": [
       "<matplotlib.figure.Figure at 0x15dc7fa6d68>"
      ]
     },
     "metadata": {},
     "output_type": "display_data"
    }
   ],
   "source": [
    "plt.plot(fpr, tpr, \"b:\", label=\"SGD\")\n",
    "plot_roc_curve(fpr_forest, tpr_forest, \"Random Forest\")\n",
    "plt.legend(loc=\"bottom right\")\n",
    "plt.show()"
   ]
  },
  {
   "cell_type": "code",
   "execution_count": 98,
   "metadata": {},
   "outputs": [
    {
     "data": {
      "text/plain": [
       "0.99312433660038291"
      ]
     },
     "execution_count": 98,
     "metadata": {},
     "output_type": "execute_result"
    }
   ],
   "source": [
    "roc_auc_score(y_train_5,y_scores_forest)"
   ]
  },
  {
   "cell_type": "code",
   "execution_count": 99,
   "metadata": {},
   "outputs": [
    {
     "data": {
      "text/plain": [
       "array([ 5.])"
      ]
     },
     "execution_count": 99,
     "metadata": {},
     "output_type": "execute_result"
    }
   ],
   "source": [
    "sgd_clf.fit(X_train,y_train)\n",
    "sgd_clf.predict([some_digit])"
   ]
  },
  {
   "cell_type": "code",
   "execution_count": 100,
   "metadata": {},
   "outputs": [
    {
     "data": {
      "text/plain": [
       "array([[-311402.62954431, -363517.28355739, -446449.5306454 ,\n",
       "        -183226.61023518, -414337.15339485,  161855.74572176,\n",
       "        -452576.39616343, -471957.14962573, -518542.33997148,\n",
       "        -536774.63961222]])"
      ]
     },
     "execution_count": 100,
     "metadata": {},
     "output_type": "execute_result"
    }
   ],
   "source": [
    "some_digit_scores=sgd_clf.decision_function([some_digit])\n",
    "some_digit_scores"
   ]
  },
  {
   "cell_type": "code",
   "execution_count": 101,
   "metadata": {},
   "outputs": [
    {
     "data": {
      "text/plain": [
       "5"
      ]
     },
     "execution_count": 101,
     "metadata": {},
     "output_type": "execute_result"
    }
   ],
   "source": [
    "np.argmax(some_digit_scores)"
   ]
  },
  {
   "cell_type": "code",
   "execution_count": 102,
   "metadata": {},
   "outputs": [
    {
     "data": {
      "text/plain": [
       "array([ 0.,  1.,  2.,  3.,  4.,  5.,  6.,  7.,  8.,  9.])"
      ]
     },
     "execution_count": 102,
     "metadata": {},
     "output_type": "execute_result"
    }
   ],
   "source": [
    "sgd_clf.classes_"
   ]
  },
  {
   "cell_type": "code",
   "execution_count": 106,
   "metadata": {},
   "outputs": [
    {
     "data": {
      "text/plain": [
       "array([ 5.])"
      ]
     },
     "execution_count": 106,
     "metadata": {},
     "output_type": "execute_result"
    }
   ],
   "source": [
    "from sklearn.multiclass import OneVsOneClassifier\n",
    "ovo_clf=OneVsOneClassifier(SGDClassifier(random_state=42))\n",
    "ovo_clf.fit(X_train,y_train)\n",
    "ovo_clf.predict([some_digit])"
   ]
  },
  {
   "cell_type": "code",
   "execution_count": 107,
   "metadata": {},
   "outputs": [
    {
     "data": {
      "text/plain": [
       "45"
      ]
     },
     "execution_count": 107,
     "metadata": {},
     "output_type": "execute_result"
    }
   ],
   "source": [
    "len(ovo_clf.estimators_)"
   ]
  },
  {
   "cell_type": "code",
   "execution_count": 109,
   "metadata": {},
   "outputs": [
    {
     "data": {
      "text/plain": [
       "array([ 5.])"
      ]
     },
     "execution_count": 109,
     "metadata": {},
     "output_type": "execute_result"
    }
   ],
   "source": [
    "forest_clf.fit(X_train, y_train)\n",
    "forest_clf.predict([some_digit])"
   ]
  },
  {
   "cell_type": "code",
   "execution_count": 110,
   "metadata": {},
   "outputs": [
    {
     "data": {
      "text/plain": [
       "array([[ 0.1,  0. ,  0. ,  0.1,  0. ,  0.8,  0. ,  0. ,  0. ,  0. ]])"
      ]
     },
     "execution_count": 110,
     "metadata": {},
     "output_type": "execute_result"
    }
   ],
   "source": [
    "forest_clf.predict_proba([some_digit])"
   ]
  },
  {
   "cell_type": "code",
   "execution_count": 111,
   "metadata": {},
   "outputs": [
    {
     "data": {
      "text/plain": [
       "array([ 0.84063187,  0.84899245,  0.86652998])"
      ]
     },
     "execution_count": 111,
     "metadata": {},
     "output_type": "execute_result"
    }
   ],
   "source": [
    "cross_val_score(sgd_clf,X_train,y_train,cv=3,scoring=\"accuracy\")"
   ]
  },
  {
   "cell_type": "code",
   "execution_count": 114,
   "metadata": {},
   "outputs": [
    {
     "data": {
      "text/plain": [
       "array([ 0.91011798,  0.90874544,  0.906636  ])"
      ]
     },
     "execution_count": 114,
     "metadata": {},
     "output_type": "execute_result"
    }
   ],
   "source": [
    "from sklearn.preprocessing import StandardScaler\n",
    "scaler=StandardScaler()\n",
    "X_train_scaled=scaler.fit_transform(X_train.astype(np.float64))\n",
    "cross_val_score(sgd_clf,X_train_scaled,y_train,cv=3,scoring=\"accuracy\")"
   ]
  },
  {
   "cell_type": "code",
   "execution_count": 117,
   "metadata": {},
   "outputs": [
    {
     "data": {
      "text/plain": [
       "array([ 0.        ,  0.        ,  0.        ,  0.        ,  0.        ,\n",
       "        0.        ,  0.        ,  0.        ,  0.        ,  0.        ,\n",
       "        0.        ,  0.        , -0.00441808, -0.00575482, -0.00408252,\n",
       "       -0.00408252,  0.        ,  0.        ,  0.        ,  0.        ,\n",
       "        0.        ,  0.        ,  0.        ,  0.        ,  0.        ,\n",
       "        0.        ,  0.        ,  0.        ,  0.        ,  0.        ,\n",
       "        0.        ,  0.        , -0.00408252, -0.00470969, -0.00879935,\n",
       "       -0.01159056, -0.01475898, -0.01928485, -0.0246718 , -0.02907103,\n",
       "       -0.03059266, -0.03116401, -0.03196287, -0.03020254, -0.03131022,\n",
       "       -0.0283834 , -0.02311919, -0.01916663, -0.0167723 , -0.01099636,\n",
       "       -0.00832486, -0.00438069,  0.        ,  0.        ,  0.        ,\n",
       "        0.        ,  0.        ,  0.        , -0.00408252, -0.00539535,\n",
       "       -0.00852241, -0.01198504, -0.01765348, -0.0277109 , -0.03702009,\n",
       "       -0.05215128, -0.0670362 , -0.08301705, -0.0993793 , -0.11518413,\n",
       "       -0.12913326, -0.13839468, -0.13888363, -0.13184344, -0.12042952,\n",
       "       -0.10189079, -0.0786049 , -0.05699561, -0.03965768, -0.02372839,\n",
       "       -0.01408835, -0.00783084,  0.        ,  0.        ,  0.        ,\n",
       "        0.        , -0.00536838, -0.00887061, -0.01407082, -0.02214681,\n",
       "       -0.03518014, -0.05502368, -0.07909613, -0.10764901, -0.13716994,\n",
       "       -0.16710576, -0.19600876, -0.22449111, -0.24865599, -0.26211797,\n",
       "       -0.2625969 , -0.2478559 , -0.221947  , -0.1872114 , -0.14764013,\n",
       "       -0.10816436, -0.07681211, -0.0470753 , -0.03020197, -0.01524124,\n",
       "       -0.00528372,  0.        ,  0.        , -0.00408252, -0.00776342,\n",
       "       -0.01489325, -0.02396275, -0.0503409 , -0.07876747, -0.11618154,\n",
       "       -0.16124756, -0.21196164, -0.26689873, -0.32567801, -0.39024155,\n",
       "       -0.45207638, -0.49939798, -0.52342832,  1.68879845,  2.62752387,\n",
       "        0.38720523, -0.35674039, -0.28368365, -0.21683666, -0.15852438,\n",
       "       -0.10878458, -0.07092253, -0.03895348, -0.01425239, -0.0057705 ,\n",
       "        0.        ,  0.        , -0.01190174, -0.02205016, -0.05183807,\n",
       "       -0.0906597 , -0.13966711, -0.19708212, -0.26438473, -0.34073044,\n",
       "       -0.42253575, -0.51540865, -0.61603533, -0.7159833 , -0.79412047,\n",
       "       -0.83504925,  1.32609141,  1.6346726 ,  1.61788109, -0.5562504 ,\n",
       "       -0.44764565, -0.34762461, -0.26084091, -0.19030605, -0.13108013,\n",
       "       -0.07484604, -0.03193013, -0.00820892,  0.        , -0.00557015,\n",
       "       -0.01566193, -0.03636566, -0.07902431, -0.13328909, -0.19915441,\n",
       "       -0.27542969, -0.36333595, -0.46308053, -0.57484519, -0.69880387,\n",
       "       -0.82877368, -0.95689205, -1.05647264, -0.72193349,  1.07084264,\n",
       "        1.24802082,  0.93649146, -0.72455973, -0.5806059 , -0.45215876,\n",
       "       -0.33932343, -0.24893037, -0.1729397 , -0.10410424, -0.04831762,\n",
       "       -0.01470802, -0.00408252, -0.01323101, -0.02624382, -0.05915859,\n",
       "       -0.11300485, -0.17844153, -0.25800481, -0.35091181, -0.45909822,\n",
       "       -0.58414556, -0.72495421, -0.87563927, -1.0148029 , -1.13216857,\n",
       "       -1.20218834, -0.21248047,  1.07653979,  1.13236596, -0.32930802,\n",
       "       -0.86295358, -0.69048024, -0.53290132, -0.39754744, -0.28768128,\n",
       "       -0.19700703, -0.12122894, -0.05680861, -0.01539067, -0.00502549,\n",
       "       -0.01732052, -0.04308054, -0.0852489 , -0.13945837, -0.21088331,\n",
       "       -0.30001798, -0.40728153, -0.53288848, -0.68062943, -0.8419885 ,\n",
       "       -0.98243825, -1.07494102, -1.10798073, -1.10659099,  0.610637  ,\n",
       "        1.16706785,  1.16966782, -0.27168162, -0.9129785 , -0.73919131,\n",
       "       -0.5710055 , -0.423671  , -0.29819621, -0.19768614, -0.12068382,\n",
       "       -0.05393563, -0.01350554, -0.00590571, -0.02110967, -0.05298904,\n",
       "       -0.09307849, -0.15039873, -0.22619102, -0.32364534, -0.44213122,\n",
       "       -0.58424748, -0.74857559, -0.90044933, -0.99238771, -0.99508845,\n",
       "       -0.9495566 , -0.83549279,  0.93437994,  1.35981076,  1.28566133,\n",
       "       -0.62156892, -0.90150861, -0.73668152, -0.56758942, -0.4201719 ,\n",
       "       -0.2901746 , -0.18148235, -0.10493977, -0.04721317, -0.01413087,\n",
       "       -0.00577281, -0.02263228, -0.05280317, -0.09220581, -0.1474517 ,\n",
       "       -0.22728459, -0.33242832, -0.46269616, -0.61903352, -0.78428269,\n",
       "       -0.90820988, -0.93137298, -0.86957693, -0.79705953, -0.35376495,\n",
       "        1.59214654,  1.47224187,  0.91644687, -0.86255143, -0.86347326,\n",
       "       -0.70132425, -0.53739656, -0.39677103, -0.27122264, -0.15932446,\n",
       "       -0.08125841, -0.03695087, -0.0118734 , -0.00705517, -0.02077118,\n",
       "       -0.04720356, -0.08200384, -0.13745728, -0.22518196, -0.33849238,\n",
       "       -0.482935  , -0.64828822, -0.80980531, -0.89646046, -0.87178559,\n",
       "       -0.7849761 , -0.73254174, -0.32252721,  1.56425996,  1.43311578,\n",
       "        0.74152895, -0.95554794, -0.8249029 , -0.65598784, -0.49936419,\n",
       "       -0.36957331, -0.25846441, -0.14969571, -0.06111136, -0.02801157,\n",
       "       -0.0091251 , -0.00530435, -0.0162384 , -0.03637861, -0.06858201,\n",
       "       -0.1273685 , -0.22614336, -0.35220291, -0.50758351, -0.67944964,\n",
       "       -0.82825105, -0.88883004, -0.84190091, -0.76653453, -0.77020475,\n",
       "        0.45600994,  1.35589797,  1.26511028,  0.39978865, -0.96567404,\n",
       "       -0.79447676, -0.61674936, -0.47007288, -0.35512441, -0.25540754,\n",
       "       -0.15382451, -0.05245428, -0.02150587, -0.00992198, -0.00408252,\n",
       "       -0.01093439, -0.0255448 , -0.05707308, -0.12466202, -0.23849817,\n",
       "       -0.3732589 , -0.53313607, -0.70209414, -0.83745005, -0.88007425,\n",
       "       -0.84101427, -0.81679096, -0.47800211,  1.24439293,  1.14714444,\n",
       "        0.95676634, -1.00402312, -0.97607041, -0.7751954 , -0.5944466 ,\n",
       "       -0.46091024, -0.35550055, -0.26354918, -0.16450369, -0.05951303,\n",
       "       -0.02336867, -0.00740432, -0.00408252, -0.00798835, -0.01829645,\n",
       "       -0.05133943, -0.1293464 , -0.25752139, -0.39501133, -0.55042172,\n",
       "       -0.70732309, -0.82604982, -0.86785315, -0.86074372, -0.90403568,\n",
       "        0.47134577,  1.09677148,  1.03583353, -0.09195833, -1.13977509,\n",
       "       -0.96328345, -0.76301132, -0.59702704, -0.47201999, -0.36837041,\n",
       "       -0.27332532, -0.17338663, -0.06894272, -0.02464466, -0.0069849 ,\n",
       "       -0.00477028, -0.00418943, -0.01864826, -0.05327212, -0.14042052,\n",
       "       -0.27718062, -0.41220901, -0.5540034 , -0.69200544, -0.79258314,\n",
       "       -0.84194084, -0.86976698, -0.52061435,  1.0549543 ,  1.04169396,\n",
       "        1.03259284, -0.36643359, -1.07835249, -0.92258453, -0.75248127,\n",
       "       -0.60978718, -0.48675394, -0.38089678, -0.27829889, -0.17549155,\n",
       "       -0.07702614, -0.0296263 , -0.00911024, -0.00408252, -0.00670728,\n",
       "       -0.02160143, -0.06070769, -0.15702241, -0.29716317, -0.4223068 ,\n",
       "       -0.54572671, -0.65910029, -0.74125055, -0.78837956, -0.83396729,\n",
       "        0.53512425,  1.20558778,  1.1232475 ,  0.34662233, -1.06162577,\n",
       "       -0.99988631, -0.87891758, -0.74358354, -0.61562164, -0.49307976,\n",
       "       -0.37987428, -0.27351765, -0.17353912, -0.08405015, -0.03416244,\n",
       "       -0.00893965,  0.        , -0.00893209, -0.02539776, -0.07390018,\n",
       "       -0.17786005, -0.31338343, -0.42901306, -0.53508894, -0.62078199,\n",
       "       -0.68268924, -0.72347014, -0.37679008,  1.24712507,  1.35314917,\n",
       "        1.2543661 , -0.46915353, -1.01067269, -0.9515093 , -0.85546569,\n",
       "       -0.74032107, -0.61326579, -0.48515629, -0.36804198, -0.26078182,\n",
       "       -0.16833376, -0.08854264, -0.03593623, -0.01071081, -0.00590597,\n",
       "       -0.00635211, -0.03332021, -0.09130486, -0.19910803, -0.32796741,\n",
       "       -0.43899543, -0.53445409, -0.6059479 , -0.65940509, -0.69784837,\n",
       "        0.48085591,  1.58699823,  1.43742181,  1.00239916, -0.91210601,\n",
       "       -1.01044884, -0.95294508, -0.85872464, -0.73231139, -0.5949106 ,\n",
       "       -0.46342915, -0.34877114, -0.24588475, -0.15820094, -0.08543796,\n",
       "       -0.03155796, -0.00976041, -0.00408252, -0.01128166, -0.0397571 ,\n",
       "       -0.10385233, -0.21198097, -0.33747789, -0.45170193, -0.55213161,\n",
       "       -0.63188648, -0.69322439, -0.09367535,  1.51437602,  1.50183703,\n",
       "        1.37423329, -0.60508802, -1.06082828, -1.04812373, -0.96705521,\n",
       "       -0.84650228, -0.70122275, -0.55538565, -0.42707461, -0.31681048,\n",
       "       -0.2206858 , -0.14105726, -0.07817104, -0.02918258, -0.00802579,\n",
       "        0.        , -0.0103421 , -0.04327362, -0.10916701, -0.20903257,\n",
       "       -0.33022464, -0.45487527, -0.56919681, -0.6729436 ,  1.0293883 ,\n",
       "        1.34383843,  1.39573216,  1.30633998,  0.89297653, -1.12090482,\n",
       "       -1.12894344, -1.06273937, -0.9393329 , -0.78734757, -0.62699096,\n",
       "       -0.48806277, -0.36895114, -0.26929223, -0.18721262, -0.12162743,\n",
       "       -0.06649382, -0.026033  , -0.00577332, -0.00408252, -0.0100095 ,\n",
       "       -0.04049873, -0.09998471, -0.18820172, -0.29963131, -0.42724847,\n",
       "       -0.55525136, -0.6817774 ,  1.52273332,  1.35882073,  1.25198139,\n",
       "        1.16494627, -0.72827116, -1.19218568, -1.12530505, -0.99470796,\n",
       "       -0.83223274, -0.66712599, -0.52269449, -0.39906543, -0.29670064,\n",
       "       -0.21262622, -0.14869396, -0.09689573, -0.05093109, -0.02021443,\n",
       "       -0.00408252, -0.00408252, -0.00600491, -0.03370635, -0.07897245,\n",
       "       -0.14774138, -0.24325025, -0.3603463 , -0.48644317, -0.62240998,\n",
       "        0.95277277,  1.37095839,  1.23077258,  0.7779097 , -0.99258685,\n",
       "       -1.07483985, -0.96307263, -0.81766817, -0.66465591, -0.52359508,\n",
       "       -0.40214203, -0.30306916, -0.22168084, -0.15936594, -0.1100607 ,\n",
       "       -0.07003976, -0.03713562, -0.01220141, -0.00408252,  0.        ,\n",
       "        0.        , -0.02273873, -0.0519054 , -0.09998802, -0.16843162,\n",
       "       -0.26031072, -0.36983708, -0.490098  , -0.35414435,  0.41823242,\n",
       "        1.39229082,  0.40975576, -0.89980608, -0.83974858, -0.73465553,\n",
       "       -0.61257571, -0.49207119, -0.37992817, -0.28881739, -0.21344094,\n",
       "       -0.15366778, -0.10912601, -0.07409876, -0.04331719, -0.01934379,\n",
       "       -0.01040248,  0.        ,  0.        ,  0.        , -0.0103527 ,\n",
       "       -0.0287501 , -0.05756837, -0.09531054, -0.15360976, -0.22342453,\n",
       "       -0.30357777, -0.38847997, -0.47019583, -0.53312357, -0.56650599,\n",
       "       -0.56278366, -0.5271647 , -0.4680574 , -0.39580505, -0.32478945,\n",
       "       -0.25570503, -0.19461171, -0.14457421, -0.10177354, -0.07142522,\n",
       "       -0.04777776, -0.02575244, -0.01137942, -0.00475287,  0.        ,\n",
       "        0.        ,  0.        , -0.0066643 , -0.01096421, -0.02760445,\n",
       "       -0.0515536 , -0.08677185, -0.12839203, -0.1757759 , -0.22305444,\n",
       "       -0.26664029, -0.29484432, -0.30750543, -0.30518012, -0.28923178,\n",
       "       -0.26323129, -0.23372359, -0.20102782, -0.16369105, -0.127666  ,\n",
       "       -0.09396514, -0.06568326, -0.04592653, -0.02871881, -0.01569304,\n",
       "       -0.00567531, -0.00408252,  0.        ,  0.        ,  0.        ,\n",
       "        0.        , -0.00408252, -0.01512139, -0.03136955, -0.05333023,\n",
       "       -0.07922827, -0.10837665, -0.13397907, -0.15751318, -0.17510551,\n",
       "       -0.1826269 , -0.18053534, -0.16987649, -0.15315731, -0.13543312,\n",
       "       -0.1164803 , -0.09395125, -0.07257689, -0.05236436, -0.036383  ,\n",
       "       -0.02150306, -0.01301928, -0.00449422, -0.00408252,  0.        ,\n",
       "        0.        ,  0.        ,  0.        ,  0.        ,  0.        ,\n",
       "       -0.00579016, -0.00905385, -0.01600544, -0.02211976, -0.026846  ,\n",
       "       -0.03184506, -0.04374841, -0.04728295, -0.0531388 , -0.05662282,\n",
       "       -0.06033836, -0.056295  , -0.05136654, -0.04263228, -0.03317103,\n",
       "       -0.02246288, -0.01606909, -0.0114322 , -0.00900729, -0.00577039,\n",
       "        0.        ,  0.        ,  0.        ,  0.        ])"
      ]
     },
     "execution_count": 117,
     "metadata": {},
     "output_type": "execute_result"
    }
   ],
   "source": [
    "X_train_scaled[0]"
   ]
  },
  {
   "cell_type": "code",
   "execution_count": 119,
   "metadata": {
    "collapsed": true
   },
   "outputs": [],
   "source": [
    "y_train_pred=cross_val_predict(sgd_clf,X_train_scaled,y_train,cv=3)\n",
    "conf_mx=confusion_matrix(y_train,y_train_pred)"
   ]
  },
  {
   "cell_type": "code",
   "execution_count": 120,
   "metadata": {},
   "outputs": [
    {
     "data": {
      "text/plain": [
       "array([ 1.,  6.,  6., ...,  0.,  2.,  9.])"
      ]
     },
     "execution_count": 120,
     "metadata": {},
     "output_type": "execute_result"
    }
   ],
   "source": [
    "y_train_pred"
   ]
  },
  {
   "cell_type": "code",
   "execution_count": 121,
   "metadata": {},
   "outputs": [
    {
     "data": {
      "text/plain": [
       "array([[5725,    3,   24,    9,   10,   49,   50,   10,   39,    4],\n",
       "       [   2, 6493,   43,   25,    7,   40,    5,   10,  109,    8],\n",
       "       [  51,   41, 5321,  104,   89,   26,   87,   60,  166,   13],\n",
       "       [  47,   46,  141, 5342,    1,  231,   40,   50,  141,   92],\n",
       "       [  19,   29,   41,   10, 5366,    9,   56,   37,   86,  189],\n",
       "       [  73,   45,   36,  193,   64, 4582,  111,   30,  193,   94],\n",
       "       [  29,   34,   44,    2,   42,   85, 5627,   10,   45,    0],\n",
       "       [  25,   24,   74,   32,   54,   12,    6, 5787,   15,  236],\n",
       "       [  52,  161,   73,  156,   10,  163,   61,   25, 5027,  123],\n",
       "       [  43,   35,   26,   92,  178,   28,    2,  223,   82, 5240]])"
      ]
     },
     "execution_count": 121,
     "metadata": {},
     "output_type": "execute_result"
    }
   ],
   "source": [
    "conf_mx"
   ]
  },
  {
   "cell_type": "code",
   "execution_count": 122,
   "metadata": {},
   "outputs": [
    {
     "data": {
      "text/plain": [
       "<matplotlib.image.AxesImage at 0x15d800374e0>"
      ]
     },
     "execution_count": 122,
     "metadata": {},
     "output_type": "execute_result"
    },
    {
     "data": {
      "image/png": "[encoded data removed]",
      "text/plain": [
       "<matplotlib.figure.Figure at 0x15dc8083080>"
      ]
     },
     "metadata": {},
     "output_type": "display_data"
    }
   ],
   "source": [
    "plt.matshow(conf_mx,cmap=plt.cm.gray)"
   ]
  },
  {
   "cell_type": "code",
   "execution_count": 123,
   "metadata": {
    "collapsed": true
   },
   "outputs": [],
   "source": [
    "row_sums=conf_mx.sum(axis=1,keepdims=True)\n",
    "norm_conf_mx=conf_mx/row_sums"
   ]
  },
  {
   "cell_type": "code",
   "execution_count": 125,
   "metadata": {
    "scrolled": true
   },
   "outputs": [
    {
     "data": {
      "text/plain": [
       "array([[  9.66570994e-01,   5.06500084e-04,   4.05200068e-03,\n",
       "          1.51950025e-03,   1.68833361e-03,   8.27283471e-03,\n",
       "          8.44166807e-03,   1.68833361e-03,   6.58450110e-03,\n",
       "          6.75333446e-04],\n",
       "       [  2.96647879e-04,   9.63067339e-01,   6.37792940e-03,\n",
       "          3.70809849e-03,   1.03826758e-03,   5.93295758e-03,\n",
       "          7.41619697e-04,   1.48323939e-03,   1.61673094e-02,\n",
       "          1.18659152e-03],\n",
       "       [  8.55991944e-03,   6.88150386e-03,   8.93084928e-01,\n",
       "          1.74555220e-02,   1.49378986e-02,   4.36388050e-03,\n",
       "          1.46022155e-02,   1.00704935e-02,   2.78616986e-02,\n",
       "          2.18194025e-03],\n",
       "       [  7.66595988e-03,   7.50285435e-03,   2.29978796e-02,\n",
       "          8.71309737e-01,   1.63105529e-04,   3.76773773e-02,\n",
       "          6.52422117e-03,   8.15527646e-03,   2.29978796e-02,\n",
       "          1.50057087e-02],\n",
       "       [  3.25231085e-03,   4.96405341e-03,   7.01814447e-03,\n",
       "          1.71174255e-03,   9.18521054e-01,   1.54056830e-03,\n",
       "          9.58575830e-03,   6.33344745e-03,   1.47209860e-02,\n",
       "          3.23519343e-02],\n",
       "       [  1.34661502e-02,   8.30105147e-03,   6.64084117e-03,\n",
       "          3.56022874e-02,   1.18059399e-02,   8.45231507e-01,\n",
       "          2.04759270e-02,   5.53403431e-03,   3.56022874e-02,\n",
       "          1.73399742e-02],\n",
       "       [  4.90030416e-03,   5.74518418e-03,   7.43494424e-03,\n",
       "          3.37952011e-04,   7.09699223e-03,   1.43629605e-02,\n",
       "          9.50827982e-01,   1.68976005e-03,   7.60392024e-03,\n",
       "          0.00000000e+00],\n",
       "       [  3.99042298e-03,   3.83080607e-03,   1.18116520e-02,\n",
       "          5.10774142e-03,   8.61931365e-03,   1.91540303e-03,\n",
       "          9.57701516e-04,   9.23703113e-01,   2.39425379e-03,\n",
       "          3.76695930e-02],\n",
       "       [  8.88736968e-03,   2.75166638e-02,   1.24764997e-02,\n",
       "          2.66621090e-02,   1.70910955e-03,   2.78584857e-02,\n",
       "          1.04255683e-02,   4.27277388e-03,   8.59169373e-01,\n",
       "          2.10220475e-02],\n",
       "       [  7.22810556e-03,   5.88334174e-03,   4.37048243e-03,\n",
       "          1.54647840e-02,   2.99209951e-02,   4.70667339e-03,\n",
       "          3.36190956e-04,   3.74852916e-02,   1.37838292e-02,\n",
       "          8.80820306e-01]])"
      ]
     },
     "execution_count": 125,
     "metadata": {},
     "output_type": "execute_result"
    }
   ],
   "source": [
    "norm_conf_mx"
   ]
  },
  {
   "cell_type": "code",
   "execution_count": 126,
   "metadata": {},
   "outputs": [
    {
     "data": {
      "image/png": "[encoded data removed]",
      "text/plain": [
       "<matplotlib.figure.Figure at 0x15dc80dd588>"
      ]
     },
     "metadata": {},
     "output_type": "display_data"
    }
   ],
   "source": [
    "np.fill_diagonal(norm_conf_mx,0)\n",
    "plt.matshow(norm_conf_mx,cmap=plt.cm.gray)\n",
    "plt.show()"
   ]
  },
  {
   "cell_type": "code",
   "execution_count": 128,
   "metadata": {
    "collapsed": true
   },
   "outputs": [],
   "source": [
    "from sklearn.neighbors import KNeighborsClassifier\n",
    "y_train_large=(y_train>=7)\n",
    "y_train_odd=(y_train%2==1)\n",
    "y_multilabel=np.c_[y_train_large,y_train_odd]"
   ]
  },
  {
   "cell_type": "code",
   "execution_count": 129,
   "metadata": {},
   "outputs": [
    {
     "data": {
      "text/plain": [
       "array([[False,  True],\n",
       "       [False, False],\n",
       "       [False, False],\n",
       "       ..., \n",
       "       [False, False],\n",
       "       [False, False],\n",
       "       [ True,  True]], dtype=bool)"
      ]
     },
     "execution_count": 129,
     "metadata": {},
     "output_type": "execute_result"
    }
   ],
   "source": [
    "y_multilabel"
   ]
  },
  {
   "cell_type": "code",
   "execution_count": 130,
   "metadata": {},
   "outputs": [
    {
     "data": {
      "text/plain": [
       "KNeighborsClassifier(algorithm='auto', leaf_size=30, metric='minkowski',\n",
       "           metric_params=None, n_jobs=1, n_neighbors=5, p=2,\n",
       "           weights='uniform')"
      ]
     },
     "execution_count": 130,
     "metadata": {},
     "output_type": "execute_result"
    }
   ],
   "source": [
    "knn_clf=KNeighborsClassifier()\n",
    "knn_clf.fit(X_train,y_multilabel)"
   ]
  },
  {
   "cell_type": "code",
   "execution_count": 131,
   "metadata": {},
   "outputs": [
    {
     "data": {
      "text/plain": [
       "array([[False,  True]], dtype=bool)"
      ]
     },
     "execution_count": 131,
     "metadata": {},
     "output_type": "execute_result"
    }
   ],
   "source": [
    "knn_clf.predict([some_digit])"
   ]
  },
  {
   "cell_type": "code",
   "execution_count": 132,
   "metadata": {},
   "outputs": [
    {
     "data": {
      "text/plain": [
       "0.96845540180280221"
      ]
     },
     "execution_count": 132,
     "metadata": {},
     "output_type": "execute_result"
    }
   ],
   "source": [
    "y_train_knn_pred=cross_val_predict(knn_clf,X_train,y_train,cv=3)\n",
    "f1_score(y_train,y_train_knn_pred,average=\"macro\")"
   ]
  },
  {
   "cell_type": "code",
   "execution_count": 139,
   "metadata": {},
   "outputs": [],
   "source": [
    "noise=np.random.randint(0,100,(len(X_train),784))\n",
    "X_train_mod=X_train+noise\n",
    "noise=np.random.randint(0,100,(len(X_test),784))\n",
    "X_test_mod=X_test+noise"
   ]
  },
  {
   "cell_type": "code",
   "execution_count": 140,
   "metadata": {},
   "outputs": [],
   "source": [
    "y_train_mod=X_train\n",
    "y_test_mod=X_test"
   ]
  },
  {
   "cell_type": "code",
   "execution_count": 143,
   "metadata": {},
   "outputs": [],
   "source": [
    "some_index = 5500\n",
    "knn_clf.fit(X_train_mod, y_train_mod)\n",
    "clean_digit = knn_clf.predict([X_test_mod[some_index]])\n"
   ]
  },
  {
   "cell_type": "code",
   "execution_count": 144,
   "metadata": {},
   "outputs": [
    {
     "data": {
      "text/plain": [
       "array([[  0,   0,   0,   0,   0,   0,   0,   0,   0,   0,   0,   0,   0,\n",
       "          0,   0,   0,   0,   0,   0,   0,   0,   0,   0,   0,   0,   0,\n",
       "          0,   0,   0,   0,   0,   0,   0,   0,   0,   0,   0,   0,   0,\n",
       "          0,   0,   0,   0,   0,   0,   0,   0,   0,   0,   0,   0,   0,\n",
       "          0,   0,   0,   0,   0,   0,   0,   0,   0,   0,   0,   0,   0,\n",
       "          0,   0,   0,   0,   0,   0,   0,   0,   0,   0,   0,   0,   0,\n",
       "          0,   0,   0,   0,   0,   0,   0,   0,   0,   0,   0,   0,   0,\n",
       "          0,   0,   0,   0,   0,   0,   0,   0,   0,   0,   0,   0,   0,\n",
       "          0,   0,   0,   0,   0,   0,   0,   0,   0,   0,   0,   0,   0,\n",
       "          0,   0,   0,   0,   0,   0,   0,   0,   0,   0,   0,   0,   0,\n",
       "          0,   0,   0,   0,   0,   0,   0,   0,   0,   0,   0,   0,   0,\n",
       "          0,   0,   0,   0,   0,   0,   0,   0,   0,   0,   0,   0,   0,\n",
       "          0,   0,   0,   0,   0,   0,   0,   0,   0,   0,   0,   0,   0,\n",
       "          0,   0,   0,   0,   0,   0,   0,   0,   0,   0,   0,   0,   0,\n",
       "          0,   0,   0,   0,   0,   0,   0,   0,   0,   0,   0,   0,   0,\n",
       "          0,   0,   0,   0,   0,   0,   0,   0,   0,   0,   0,   0,   0,\n",
       "          0,   0,   0,   0,   0,   0,   0,   0,   0,   0,   0,   0,   5,\n",
       "          0,   0,   0,   0,   0,   0,   0,   0,   0,   0,   0,   0,   0,\n",
       "          0,   0,   0,  31,  74,  43,  13,  24, 254, 116, 166, 253, 172,\n",
       "        183,  89, 230,   0,   0,   0,   0,   0,   0,   0,   0,   0,   0,\n",
       "          0,   0,   0, 253, 253, 253, 253, 253, 253, 253, 253, 253, 253,\n",
       "        253, 253,   0,   0,   0,   0,   0,   0,   0,   0,   0,   0,   0,\n",
       "          0,   0,   0,   0, 104, 253, 254, 254, 254, 137,  93,  93,  93,\n",
       "         34,   0,   0,   0,   0,   0,   0,   0,   0,   0,   0,   0,   0,\n",
       "          0,   0,   0,   0,   0,  51, 253, 254,   4,   0,   0,   0,   0,\n",
       "          0,   0,   0,   0,   0,   0,   0,   0,   0,   0,   0,   0,   0,\n",
       "          0,   0,   0,   0,   0,   0,  45, 253, 254,  95,   0,   0,   0,\n",
       "          0,   0,   0,   0,   0,   0,   0,   0,   0,   0,   0,   0,   0,\n",
       "          0,   0,   0,   0,   0,   0,   0,   0, 101, 253, 254, 253,   0,\n",
       "          0,   0,   0,   0,   0,   0,   0,   0,   0,   0,   0,   0,   0,\n",
       "          0,   0,   0,   0,   0,   0,   0,   0,   0,   0, 254, 254, 254,\n",
       "        253, 112,  38,   0,   0,   0,   0,   0,   0,   0,   0,   0,   0,\n",
       "          0,   0,   0,   0,   0,   0,   0,   0,   0,   0,   0,   0,   0,\n",
       "         16,  90, 254, 253,  42, 197, 114,  12,   0,   0,   0,   0,   0,\n",
       "          0,   0,   0,   0,   0,   0,   0,   0,   0,   0,   0,   0,   0,\n",
       "          0,   0,   0,   0,   0,   0,   0,  95, 253, 172,   0,   0,   0,\n",
       "          0,   0,   0,   0,   0,   0,   0,   0,   0,   0,   0,   0,   0,\n",
       "          0,   0,   0,   0,   0,   0,   0,   0,   0,  44, 220, 253,  50,\n",
       "          0,   0,   0,   0,   0,   0,   0,   0,   0,   0,   0,   0,   0,\n",
       "          0,   0,   0,   0,   0,   0,   0,   0,   0,   0,   0,   0,  26,\n",
       "        254,  25,   0,   0,   0,   0,   0,   0,   0,   0,   0,   0,   0,\n",
       "          0,   0,   0,   0,   0,   0,   0,   0,   0,   0,   0,   0,   0,\n",
       "          0,  81, 230,   0,   0,   0,   0,   0,   0,   0,   0,   0,   0,\n",
       "          0,   0,   0,   0,   0,   0,   0,   0,   0,   0,   0,   0,   0,\n",
       "          0,   0,  17, 203, 126,   0,   0,   0,   0,   0,   0,   0,   0,\n",
       "          0,   0,   0,   0,   0,   0,   0,   0,   0,   0,   0,   0,   0,\n",
       "          0,   0,   0,   0, 253, 254,   0,   0,   0,   0,   0,   0,   0,\n",
       "          0,   0,   0,   0,   0,   0,   0,   0,   0,   0,   0,   0,   0,\n",
       "        211,  67,  99,  70,  70, 136, 254,  60,   0,   0,   0,   0,   0,\n",
       "          0,   0,   0,   0,   0,   0,   0,   0,   0,   0,   0,   0,   0,\n",
       "          0,   0, 253, 253, 253, 253, 253, 137,  12,   0,   0,   0,   0,\n",
       "          0,   0,   0,   0,   0,   0,   0,   0,   0,   0,   0,   0,   0,\n",
       "          0,   0,   0,   0,   0,   5,  19,  46,  29,   0,   0,   0,   0,\n",
       "          0,   0,   0,   0,   0,   0,   0,   0,   0,   0,   0,   0,   0,\n",
       "          0,   0,   0,   0,   0,   0,   0,   0,   0,   0,   0,   0,   0,\n",
       "          0,   0,   0,   0,   0,   0,   0,   0,   0,   0,   0,   0,   0,\n",
       "          0,   0,   0,   0,   0,   0,   0,   0,   0,   0,   0,   0,   0,\n",
       "          0,   0,   0,   0,   0,   0,   0,   0,   0,   0,   0,   0,   0,\n",
       "          0,   0,   0,   0,   0,   0,   0,   0,   0,   0,   0,   0,   0,\n",
       "          0,   0,   0,   0,   0,   0,   0,   0,   0,   0,   0,   0,   0,\n",
       "          0,   0,   0,   0]], dtype=uint8)"
      ]
     },
     "execution_count": 144,
     "metadata": {},
     "output_type": "execute_result"
    }
   ],
   "source": [
    "clean_digit"
   ]
  },
  {
   "cell_type": "code",
   "execution_count": null,
   "metadata": {
    "collapsed": true
   },
   "outputs": [],
   "source": []
  }
 ],
 "metadata": {
  "kernelspec": {
   "display_name": "Python 3",
   "language": "python",
   "name": "python3"
  },
  "language_info": {
   "codemirror_mode": {
    "name": "ipython",
    "version": 3
   },
   "file_extension": ".py",
   "mimetype": "text/x-python",
   "name": "python",
   "nbconvert_exporter": "python",
   "pygments_lexer": "ipython3",
   "version": "3.6.3"
  }
 },
 "nbformat": 4,
 "nbformat_minor": 2
}
